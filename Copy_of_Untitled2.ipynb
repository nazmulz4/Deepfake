{
  "nbformat": 4,
  "nbformat_minor": 0,
  "metadata": {
    "accelerator": "GPU",
    "colab": {
      "name": "Copy of Untitled2.ipynb",
      "provenance": [],
      "collapsed_sections": []
    },
    "kernelspec": {
      "display_name": "Python 3",
      "name": "python3"
    },
    "language_info": {
      "name": "python"
    }
  },
  "cells": [
    {
      "cell_type": "code",
      "metadata": {
        "id": "c06O9d6Tqad2"
      },
      "source": [
        "import dlib\n",
        "import cv2\n",
        "import os\n",
        "import json\n",
        "from PIL import Image, ImageChops, ImageEnhance\n",
        "\n",
        "import tensorflow as tf\n",
        "import numpy as np\n",
        "import matplotlib.pyplot as plt\n",
        "import seaborn as sn\n",
        "import pandas as pd\n",
        "from tensorflow.keras.preprocessing.image import ImageDataGenerator, img_to_array, load_img\n",
        "from tensorflow.keras.utils import to_categorical\n",
        "from sklearn.model_selection import train_test_split\n",
        "from sklearn.metrics import confusion_matrix\n",
        "\n",
        "import keras_preprocessing\n",
        "from keras_preprocessing import image\n",
        "import shutil\n",
        "\n",
        "\n",
        "from tensorflow.keras.models import Model"
      ],
      "execution_count": 1,
      "outputs": []
    },
    {
      "cell_type": "code",
      "metadata": {
        "colab": {
          "base_uri": "https://localhost:8080/"
        },
        "id": "BpmZUCanqp0B",
        "outputId": "877e32ac-bbdf-4ff2-9a71-2d76cf94438f"
      },
      "source": [
        "from google.colab import drive\n",
        "drive.mount('/content/drive')"
      ],
      "execution_count": 2,
      "outputs": [
        {
          "output_type": "stream",
          "name": "stdout",
          "text": [
            "Mounted at /content/drive\n"
          ]
        }
      ]
    },
    {
      "cell_type": "code",
      "metadata": {
        "id": "TYB5ooaKqsXB"
      },
      "source": [
        "# train_frame_folder = '/content/drive/MyDrive/DATA/dfdc_train_part_05/dfdc_train_part_5'\n",
        "\n",
        "real_file_path = \"/content/drive/MyDrive/DATA/faceforensic_work/original_sequences/youtube/c23/videos\"\n",
        "real_save_path = \"/content/drive/MyDrive/DATA/NewData/real\"\n",
        "\n",
        "\n",
        "\n",
        "train_frame_folder = real_file_path\n",
        "\n",
        "# meta_path = \"\"\n",
        "\n",
        "# for i in os.listdir(train_frame_folder):\n",
        "#     if i.split(\".\")[1] == \"json\":\n",
        "#         meta_path = train_frame_folder + \"/\" + i\n",
        "\n",
        "# with open(os.path.join(train_frame_folder, meta_path), 'r') as file:\n",
        "#     data = json.load(file)\n",
        "list_of_train_data = [f for f in os.listdir(train_frame_folder) if f.endswith('.mp4')]\n",
        "detector = dlib.get_frontal_face_detector()\n",
        "for vid in list_of_train_data:\n",
        "    count = 0\n",
        "    cap = cv2.VideoCapture(os.path.join(train_frame_folder, vid))\n",
        "    frameRate = cap.get(7)\n",
        "    while cap.isOpened():\n",
        "        frameId = cap.get(1)\n",
        "        ret, frame = cap.read()\n",
        "        if ret != True:\n",
        "            break\n",
        "        if frameId % ((int(frameRate)+1)*1) == 0:\n",
        "            face_rects, scores, idx = detector.run(frame, 0)\n",
        "            for i, d in enumerate(face_rects):\n",
        "                x1 = d.left()\n",
        "                y1 = d.top()\n",
        "                x2 = d.right()\n",
        "                y2 = d.bottom()\n",
        "                crop_img = frame[y1:y2, x1:x2]\n",
        "\n",
        "                cv2.imwrite(real_save_path +'/'+vid.split('.')[0]+'_'+str(count)+'.jpg', frame)\n",
        "\n",
        "                # if data[vid]['label'] == 'REAL':\n",
        "                #     cv2.imwrite('/content/drive/MyDrive/DATA/DeepVideos/test_data/real/'+vid.split('.')[0]+'_'+str(count)+'.jpg', frame)\n",
        "                # elif data[vid]['label'] == 'FAKE':\n",
        "                #     cv2.imwrite('/content/drive/MyDrive/DATA/DeepVideos/test_data/fake/'+vid.split('.')[0]+'_'+str(count)+'.jpg', frame) \n",
        "                #     # print(count+1)\n",
        "                count+=1"
      ],
      "execution_count": null,
      "outputs": []
    },
    {
      "cell_type": "code",
      "metadata": {
        "id": "6WELkSIorW0x"
      },
      "source": [
        "fake_file_path = \"/content/drive/MyDrive/DATA/faceforensic_work/manipulated_sequences/Deepfakes/c23/videos\"\n",
        "fake_save_path = \"/content/drive/MyDrive/DATA/NewData/fake\"\n",
        "\n",
        "train_frame_folder = fake_file_path\n",
        "\n",
        "# meta_path = \"\"\n",
        "\n",
        "# for i in os.listdir(train_frame_folder):\n",
        "#     if i.split(\".\")[1] == \"json\":\n",
        "#         meta_path = train_frame_folder + \"/\" + i\n",
        "\n",
        "# with open(os.path.join(train_frame_folder, meta_path), 'r') as file:\n",
        "#     data = json.load(file)\n",
        "list_of_train_data = [f for f in os.listdir(train_frame_folder) if f.endswith('.mp4')]\n",
        "detector = dlib.get_frontal_face_detector()\n",
        "for vid in list_of_train_data:\n",
        "    count = 0\n",
        "    cap = cv2.VideoCapture(os.path.join(train_frame_folder, vid))\n",
        "    frameRate = cap.get(5)\n",
        "    while cap.isOpened():\n",
        "        frameId = cap.get(1)\n",
        "        ret, frame = cap.read()\n",
        "        if ret != True:\n",
        "            break\n",
        "        if frameId % ((int(frameRate)+1)*1) == 0:\n",
        "            face_rects, scores, idx = detector.run(frame, 0)\n",
        "            for i, d in enumerate(face_rects):\n",
        "                x1 = d.left()\n",
        "                y1 = d.top()\n",
        "                x2 = d.right()\n",
        "                y2 = d.bottom()\n",
        "                crop_img = frame[y1:y2, x1:x2]\n",
        "\n",
        "                cv2.imwrite(fake_save_path +'/'+vid.split('.')[0]+'_'+str(count)+'.jpg', frame)\n",
        "\n",
        "                # if data[vid]['label'] == 'REAL':\n",
        "                #     cv2.imwrite('/content/drive/MyDrive/DATA/DeepVideos/test_data/real/'+vid.split('.')[0]+'_'+str(count)+'.jpg', frame)\n",
        "                # elif data[vid]['label'] == 'FAKE':\n",
        "                #     cv2.imwrite('/content/drive/MyDrive/DATA/DeepVideos/test_data/fake/'+vid.split('.')[0]+'_'+str(count)+'.jpg', frame) \n",
        "                #     # print(count+1)\n",
        "                count+=1"
      ],
      "execution_count": null,
      "outputs": []
    },
    {
      "cell_type": "code",
      "metadata": {
        "id": "AGcDTxefvdJd"
      },
      "source": [
        "from tensorflow.keras.layers import Dense,GlobalAveragePooling2D\n",
        "from tensorflow.keras.applications import MobileNet\n",
        "from tensorflow.keras.applications.mobilenet import preprocess_input"
      ],
      "execution_count": 3,
      "outputs": []
    },
    {
      "cell_type": "code",
      "metadata": {
        "colab": {
          "base_uri": "https://localhost:8080/"
        },
        "id": "epcrb-sAvZO2",
        "outputId": "37681f87-4f3c-460c-f411-37f464cc2986"
      },
      "source": [
        "base_model=MobileNet(weights='imagenet',include_top=False) #imports the mobilenet model and discards the last 1000 neuron layer.\n",
        "\n",
        "x=base_model.output\n",
        "x=GlobalAveragePooling2D()(x)\n",
        "x=Dense(1024,activation='relu')(x) #we add dense layers so that the model can learn more complex functions and classify for better results.\n",
        "x=Dense(1024,activation='relu')(x) #dense layer 2\n",
        "x=Dense(512,activation='relu')(x) #dense layer 3\n",
        "preds=Dense(2,activation='softmax')(x)"
      ],
      "execution_count": 4,
      "outputs": [
        {
          "output_type": "stream",
          "name": "stdout",
          "text": [
            "WARNING:tensorflow:`input_shape` is undefined or non-square, or `rows` is not in [128, 160, 192, 224]. Weights for input shape (224, 224) will be loaded as the default.\n",
            "Downloading data from https://storage.googleapis.com/tensorflow/keras-applications/mobilenet/mobilenet_1_0_224_tf_no_top.h5\n",
            "17227776/17225924 [==============================] - 0s 0us/step\n",
            "17235968/17225924 [==============================] - 0s 0us/step\n"
          ]
        }
      ]
    },
    {
      "cell_type": "code",
      "metadata": {
        "id": "BoKRbCbGv3de"
      },
      "source": [
        "model = tf.keras.models.Model(inputs=base_model.input,outputs=preds)"
      ],
      "execution_count": 5,
      "outputs": []
    },
    {
      "cell_type": "code",
      "metadata": {
        "colab": {
          "base_uri": "https://localhost:8080/"
        },
        "id": "4mEaJd_LvZSd",
        "outputId": "bf21f255-7272-4968-ea53-82f2e8b42fe5"
      },
      "source": [
        "TRAINING_DIR = \"/content/drive/MyDrive/DATA/NewData\"\n",
        "batch_size = 100\n",
        "training_datagen = ImageDataGenerator(\n",
        "      rescale = 1./255,\n",
        "      preprocessing_function=preprocess_input,\n",
        "      shear_range=0.2,\n",
        "      zoom_range=0.2,\n",
        "      horizontal_flip=True,\n",
        "      validation_split=0.2)\n",
        "\n",
        "# VALIDATION_DIR = \"/content/drive/MyDrive/DATA/DeepVideos/test_Data\"\n",
        "validation_datagen = ImageDataGenerator(rescale = 1./255, validation_split=0.2)\n",
        "\n",
        "train_generator = training_datagen.flow_from_directory(\n",
        "\tTRAINING_DIR,\n",
        "\ttarget_size=(224,224),\n",
        "\tclass_mode='categorical',\n",
        "  batch_size= batch_size,\n",
        "  subset = 'training',\n",
        "  shuffle = True\n",
        ")\n",
        "\n",
        "validation_generator = validation_datagen.flow_from_directory(\n",
        "\tTRAINING_DIR,\n",
        "\ttarget_size=(224,224),\n",
        "\tclass_mode='categorical',\n",
        "  batch_size= batch_size,\n",
        "  subset = 'validation',\n",
        "  shuffle = True)"
      ],
      "execution_count": 7,
      "outputs": [
        {
          "output_type": "stream",
          "name": "stdout",
          "text": [
            "Found 16172 images belonging to 2 classes.\n",
            "Found 4042 images belonging to 2 classes.\n"
          ]
        }
      ]
    },
    {
      "cell_type": "code",
      "metadata": {
        "colab": {
          "base_uri": "https://localhost:8080/"
        },
        "id": "TxFjTO8iznUs",
        "outputId": "5137ffd9-be89-4c6c-8b2c-6b9131f3cc3f"
      },
      "source": [
        "train_generator.class_indices"
      ],
      "execution_count": 8,
      "outputs": [
        {
          "output_type": "execute_result",
          "data": {
            "text/plain": [
              "{'fake': 0, 'real': 1}"
            ]
          },
          "metadata": {},
          "execution_count": 8
        }
      ]
    },
    {
      "cell_type": "code",
      "metadata": {
        "id": "LhhpitJ_v8mW"
      },
      "source": [
        "for layer in model.layers[:20]:\n",
        "    layer.trainable=False\n",
        "for layer in model.layers[20:]:\n",
        "    layer.trainable=True"
      ],
      "execution_count": 9,
      "outputs": []
    },
    {
      "cell_type": "code",
      "metadata": {
        "colab": {
          "base_uri": "https://localhost:8080/"
        },
        "id": "6wleb8q1wB1N",
        "outputId": "2ec40817-76e2-4e33-8198-347ae625df2e"
      },
      "source": [
        "model.compile(optimizer='Adam',loss='categorical_crossentropy',metrics=['accuracy'])\n",
        "\n",
        "early_stopping = tf.keras.callbacks.EarlyStopping(monitor='val_loss',\n",
        "                               min_delta=0,\n",
        "                               patience=2,\n",
        "                               verbose=0, mode='auto')\n",
        "\n",
        "from keras.callbacks import CSVLogger\n",
        "\n",
        "csv_logger = CSVLogger('/content/drive/MyDrive/DATA/faceforensic_work/training.log', separator=',', append=False)\n",
        "\n",
        "\n",
        "# Adam optimizer\n",
        "# loss function will be categorical cross entropy\n",
        "# evaluation metric will be accuracy\n",
        "\n",
        "step_size_train=train_generator.n//train_generator.batch_size\n",
        "history = model.fit_generator(generator=train_generator,\n",
        "                   steps_per_epoch=step_size_train,\n",
        "                   epochs=10,\n",
        "                  validation_data = validation_generator,\n",
        "                  validation_steps = validation_generator.n // validation_generator.batch_size,\n",
        "                  callbacks=[early_stopping, csv_logger])\n",
        "\n",
        "model.save(\"/content/drive/MyDrive/DATA/faceforensic_work/new_model_early.h5\")"
      ],
      "execution_count": 10,
      "outputs": [
        {
          "output_type": "stream",
          "name": "stderr",
          "text": [
            "/usr/local/lib/python3.7/dist-packages/keras/engine/training.py:1972: UserWarning: `Model.fit_generator` is deprecated and will be removed in a future version. Please use `Model.fit`, which supports generators.\n",
            "  warnings.warn('`Model.fit_generator` is deprecated and '\n"
          ]
        },
        {
          "output_type": "stream",
          "name": "stdout",
          "text": [
            "Epoch 1/10\n",
            "161/161 [==============================] - 5516s 34s/step - loss: 0.2331 - accuracy: 0.9482 - val_loss: 0.3036 - val_accuracy: 0.9488\n",
            "Epoch 2/10\n",
            "161/161 [==============================] - 361s 2s/step - loss: 0.2059 - accuracy: 0.9493 - val_loss: 0.2070 - val_accuracy: 0.9490\n",
            "Epoch 3/10\n",
            "161/161 [==============================] - 357s 2s/step - loss: 0.1918 - accuracy: 0.9492 - val_loss: 0.2344 - val_accuracy: 0.9490\n",
            "Epoch 4/10\n",
            "161/161 [==============================] - 355s 2s/step - loss: 0.1798 - accuracy: 0.9490 - val_loss: 0.2033 - val_accuracy: 0.9495\n",
            "Epoch 5/10\n",
            "161/161 [==============================] - 354s 2s/step - loss: 0.1727 - accuracy: 0.9496 - val_loss: 0.4573 - val_accuracy: 0.8335\n",
            "Epoch 6/10\n",
            "161/161 [==============================] - 352s 2s/step - loss: 0.1646 - accuracy: 0.9496 - val_loss: 0.2899 - val_accuracy: 0.9488\n"
          ]
        }
      ]
    },
    {
      "cell_type": "code",
      "metadata": {
        "colab": {
          "base_uri": "https://localhost:8080/"
        },
        "id": "EZItiHCs2ZLA",
        "outputId": "4fe9fb8a-c057-491d-d030-36f357a69312"
      },
      "source": [
        "a = model.evaluate(validation_generator, verbose=1)\n",
        "a"
      ],
      "execution_count": 12,
      "outputs": [
        {
          "output_type": "stream",
          "name": "stdout",
          "text": [
            "41/41 [==============================] - 40s 973ms/step - loss: 0.2894 - accuracy: 0.9490\n"
          ]
        },
        {
          "output_type": "execute_result",
          "data": {
            "text/plain": [
              "[0.2894130051136017, 0.949035108089447]"
            ]
          },
          "metadata": {},
          "execution_count": 12
        }
      ]
    },
    {
      "cell_type": "code",
      "metadata": {
        "id": "0sxZy_sEn6uq",
        "colab": {
          "base_uri": "https://localhost:8080/",
          "height": 308
        },
        "outputId": "33d7ff27-fc4f-498c-aeee-bf49a2378642"
      },
      "source": [
        "f, (ax1, ax2) = plt.subplots(1, 2, figsize=(20, 4))\n",
        "t = f.suptitle('Deepfake detection model (Using transfer learning by MobilenetV2) analysis', fontsize=12)\n",
        "f.subplots_adjust(top=0.85, wspace=0.3)\n",
        "\n",
        "epoch_list = list(range(1,len(history.epoch)+1))\n",
        "ax1.plot(epoch_list, history.history['accuracy'], label='Train Accuracy')\n",
        "ax1.plot(epoch_list, history.history['val_accuracy'], label='Validation Accuracy')\n",
        "ax1.set_xticks(np.arange(0, len(history.epoch)+1, 1))\n",
        "ax1.set_ylabel('Accuracy Value')\n",
        "ax1.set_xlabel('Epoch #')\n",
        "ax1.set_title('Accuracy')\n",
        "l1 = ax1.legend(loc=\"best\")\n",
        "\n",
        "ax2.plot(epoch_list, history.history['loss'], label='Train Loss')\n",
        "ax2.plot(epoch_list, history.history['val_loss'], label='Validation Loss')\n",
        "ax2.set_xticks(np.arange(0, len(history.epoch)+1, 1))\n",
        "ax2.set_ylabel('Loss Value')\n",
        "ax2.set_xlabel('Epoch #')\n",
        "ax2.set_title('Loss')\n",
        "l2 = ax2.legend(loc=\"best\")\n"
      ],
      "execution_count": 11,
      "outputs": [
        {
          "output_type": "display_data",
          "data": {
            "image/png": "[encoded data removed]",
            "text/plain": [
              "<Figure size 1440x288 with 2 Axes>"
            ]
          },
          "metadata": {
            "needs_background": "light"
          }
        }
      ]
    },
    {
      "cell_type": "code",
      "metadata": {
        "id": "5vM-8R4GpB6g"
      },
      "source": [
        "#Output confusion matrix\n",
        "def print_confusion_matrix(y_true, y_pred):\n",
        "    cm = confusion_matrix(y_true, y_pred)\n",
        "    print('True positive = ', cm[0][0])\n",
        "    print('False positive = ', cm[0][1])\n",
        "    print('False negative = ', cm[1][0])\n",
        "    print('True negative = ', cm[1][1])\n",
        "    print('\\n')\n",
        "    df_cm = pd.DataFrame(cm, range(2), range(2))\n",
        "    sn.set(font_scale=1.4) # for label size\n",
        "    sn.heatmap(df_cm, annot=True, annot_kws={\"size\": 16}) # font size\n",
        "    plt.ylabel('Actual label', size = 20)\n",
        "    plt.xlabel('Predicted label', size = 20)\n",
        "    plt.xticks(np.arange(2), ['Fake', 'Real'], size = 16)\n",
        "    plt.yticks(np.arange(2), ['Fake', 'Real'], size = 16)\n",
        "    plt.ylim([2, 0])\n",
        "    plt.show()\n",
        "\n",
        "\n",
        "imag_pred = []\n",
        "y = []\n",
        "\n",
        "for fn in os.listdir(\"/content/drive/MyDrive/DATA/NewData\"):\n",
        "  # predicting images\n",
        "  for i in os.listdir(\"/content/drive/MyDrive/DATA/NewData/\" + str(fn)):\n",
        "    if fn == \"fake\":\n",
        "      y.append(0)\n",
        "    elif fn == \"real\":\n",
        "      y.append(1)\n",
        "    path = \"/content/drive/MyDrive/DATA/NewData/\" + str(fn) + \"/\" + str(i)\n",
        "    img = load_img(path, target_size=(224,224))\n",
        "    x = img_to_array(img)\n",
        "    x = np.expand_dims(x, axis=0)\n",
        "\n",
        "    images = np.vstack([x])\n",
        "    \n",
        "    imag_pred.append(round(model.predict(images)[0][0]))\n",
        "\n",
        "    \n",
        "print_confusion_matrix(y, imag_pred)"
      ],
      "execution_count": null,
      "outputs": []
    },
    {
      "cell_type": "code",
      "metadata": {
        "id": "Q-TrO3OLHDK8"
      },
      "source": [
        ""
      ],
      "execution_count": null,
      "outputs": []
    },
    {
      "cell_type": "code",
      "metadata": {
        "id": "IHtTWBQWHDNv"
      },
      "source": [
        ""
      ],
      "execution_count": null,
      "outputs": []
    },
    {
      "cell_type": "code",
      "metadata": {
        "id": "Fpqp3fSBHDQw"
      },
      "source": [
        ""
      ],
      "execution_count": null,
      "outputs": []
    },
    {
      "cell_type": "code",
      "metadata": {
        "id": "j0BSFyDoHDTh"
      },
      "source": [
        ""
      ],
      "execution_count": null,
      "outputs": []
    },
    {
      "cell_type": "code",
      "metadata": {
        "id": "Y49Cb2cdHDWQ"
      },
      "source": [
        ""
      ],
      "execution_count": null,
      "outputs": []
    },
    {
      "cell_type": "code",
      "metadata": {
        "id": "eXlfmV6RHDY4"
      },
      "source": [
        ""
      ],
      "execution_count": null,
      "outputs": []
    }
  ]
}